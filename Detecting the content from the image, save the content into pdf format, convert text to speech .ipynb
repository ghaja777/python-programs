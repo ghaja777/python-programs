{
 "cells": [
  {
   "cell_type": "markdown",
   "id": "9ae41d0c",
   "metadata": {},
   "source": [
    "Detecting the content from the image, save the content into pdf format, convert text to speech "
   ]
  },
  {
   "cell_type": "code",
   "execution_count": 1,
   "id": "4fce7f07",
   "metadata": {},
   "outputs": [],
   "source": [
    "import cv2\n",
    "import pytesseract\n",
    "from reportlab.pdfgen import canvas\n",
    "import pyttsx3\n"
   ]
  },
  {
   "cell_type": "code",
   "execution_count": 2,
   "id": "6d386635",
   "metadata": {},
   "outputs": [],
   "source": [
    "image = cv2.imread('C:/Users/user/Downloads/image.jpg')\n",
    "# Perform image preprocessing if required\n"
   ]
  },
  {
   "cell_type": "code",
   "execution_count": 3,
   "id": "2ecce149",
   "metadata": {},
   "outputs": [],
   "source": [
    "extracted_text = pytesseract.image_to_string('C:/Users/user/Downloads/image.jpg')\n"
   ]
  },
  {
   "cell_type": "code",
   "execution_count": 4,
   "id": "d32d2231",
   "metadata": {},
   "outputs": [],
   "source": [
    "pdf_filename = 'extracted_text.pdf'\n",
    "\n",
    "c = canvas.Canvas(pdf_filename)\n",
    "c.drawString(100, 750, extracted_text)\n",
    "c.save()\n"
   ]
  },
  {
   "cell_type": "code",
   "execution_count": 5,
   "id": "2c00c5b9",
   "metadata": {},
   "outputs": [],
   "source": [
    "engine = pyttsx3.init()\n",
    "engine.say(extracted_text)\n",
    "engine.runAndWait()\n"
   ]
  },
  {
   "cell_type": "code",
   "execution_count": null,
   "id": "cd1b7d40",
   "metadata": {},
   "outputs": [],
   "source": []
  },
  {
   "cell_type": "code",
   "execution_count": null,
   "id": "2f8ea1da",
   "metadata": {},
   "outputs": [],
   "source": []
  },
  {
   "cell_type": "code",
   "execution_count": null,
   "id": "909a9c32",
   "metadata": {},
   "outputs": [],
   "source": []
  }
 ],
 "metadata": {
  "kernelspec": {
   "display_name": "Python 3 (ipykernel)",
   "language": "python",
   "name": "python3"
  },
  "language_info": {
   "codemirror_mode": {
    "name": "ipython",
    "version": 3
   },
   "file_extension": ".py",
   "mimetype": "text/x-python",
   "name": "python",
   "nbconvert_exporter": "python",
   "pygments_lexer": "ipython3",
   "version": "3.10.12"
  }
 },
 "nbformat": 4,
 "nbformat_minor": 5
}
