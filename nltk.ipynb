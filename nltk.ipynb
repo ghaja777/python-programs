{
 "cells": [
  {
   "cell_type": "code",
   "execution_count": 1,
   "metadata": {},
   "outputs": [],
   "source": [
    "import nltk\n",
    "from nltk.tokenize import sent_tokenize, word_tokenize\n",
    "from nltk.corpus import wordnet\n",
    "from nltk.stem import WordNetLemmatizer\n",
    "\n",
    "# Step 1: Install NLTK and download resources\n",
    "nltk.download('punkt')\n",
    "nltk.download('averaged_perceptron_tagger')\n",
    "nltk.download('wordnet')\n",
    "\n",
    "# Sample paragraph\n",
    "paragraph = \"\"\"\n",
    "Natural Language Processing (NLP) is a fascinating field. It involves the interaction between humans and computers using natural language. NLTK is a popular Python library for NLP. It provides various tools and resources for working with text data. In this example, we will analyze a paragraph using NLTK.\n",
    "\"\"\"\n",
    "\n",
    "# Step 2: Tokenize the text into sentences and words\n",
    "sentences = sent_tokenize(paragraph)\n",
    "words = word_tokenize(paragraph)\n",
    "\n",
    "# Step 3: Count the total number of lines, sentences, and words\n",
    "num_lines = paragraph.count('\\n') + 1\n",
    "num_sentences = len(sentences)\n",
    "num_words = len(words)\n",
    "\n",
    "# Step 4: Identify verbs in the text\n",
    "def get_verbs(text):\n",
    "    tokens = word_tokenize(text)\n",
    "    tagged_words = nltk.pos_tag(tokens)\n",
    "    verbs = [word for word, pos in tagged_words if pos.startswith('VB')]\n",
    "    return verbs\n",
    "\n",
    "verbs = get_verbs(paragraph)\n"
   ]
  },
  {
   "cell_type": "code",
   "execution_count": 2,
   "metadata": {},
   "outputs": [],
   "source": [
    "# Step 5: Find synonyms and antonyms for the verbs\n",
    "\n",
    "# Initialize WordNet Lemmatizer\n",
    "lemmatizer = WordNetLemmatizer()\n"
   ]
  },
  {
   "cell_type": "code",
   "execution_count": 3,
   "metadata": {},
   "outputs": [],
   "source": [
    "# Create dictionaries to store verb synonyms and antonyms\n",
    "\n",
    "verb_synonyms = {}\n",
    "verb_antonyms = {}\n"
   ]
  },
  {
   "cell_type": "code",
   "execution_count": 4,
   "metadata": {},
   "outputs": [],
   "source": [
    "# Iterate through verbs and find synonyms and antonyms\n",
    "\n",
    "for verb in verbs:\n",
    "    lemma = lemmatizer.lemmatize(verb, 'v')\n"
   ]
  },
  {
   "cell_type": "code",
   "execution_count": 5,
   "metadata": {},
   "outputs": [],
   "source": [
    "# Get synsets for the verb lemma\n",
    "\n",
    "\t# ... (continued from previous cell)"
   ]
  },
  {
   "cell_type": "",
   ...
Total number of lines: 1
Total number of sentences: 4
Total number of words: 47
Verbs in the text: ['is', 'involves', 'using', 'provides', 'working', 'analyze']
Verb synonyms:
{
 'is': ['be', 'exist'],
 'involves': ['involve', 'affect', 'regard'],
 'using': ['use', 'utilize', 'employ'],
 'provides': ['supply', 'furnish', 'render'],
 'working': ['work', 'function', 'operate'],
 'analyze': ['analyse', 'study', 'examine']
}
